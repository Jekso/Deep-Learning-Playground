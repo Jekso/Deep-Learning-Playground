{
 "cells": [
  {
   "cell_type": "code",
   "execution_count": 1,
   "metadata": {},
   "outputs": [
    {
     "name": "stderr",
     "output_type": "stream",
     "text": [
      "Using TensorFlow backend.\n"
     ]
    }
   ],
   "source": [
    "# import the fuckin modules\n",
    "import numpy as np\n",
    "from keras.layers import Input, Dense\n",
    "from keras.models import Model\n",
    "from keras.datasets import mnist"
   ]
  },
  {
   "cell_type": "code",
   "execution_count": 4,
   "metadata": {},
   "outputs": [
    {
     "data": {
      "text/plain": [
       "(10000, 784)"
      ]
     },
     "execution_count": 4,
     "metadata": {},
     "output_type": "execute_result"
    }
   ],
   "source": [
    "# import mnist dataset\n",
    "(x_train, _), (x_test, _) = mnist.load_data()\n",
    "x_train = x_train.astype('float32') / 255.\n",
    "x_test = x_test.astype('float32') / 255.\n",
    "x_train = x_train.reshape((len(x_train), np.prod(x_train.shape[1:])))\n",
    "x_test = x_test.reshape((len(x_test), np.prod(x_test.shape[1:])))\n",
    "x_train.shape\n",
    "x_test.shape"
   ]
  },
  {
   "cell_type": "code",
   "execution_count": 5,
   "metadata": {
    "collapsed": true
   },
   "outputs": [],
   "source": [
    "# the compression factor is 24.5, when the input is 784 the dim is 32, \n",
    "encoding_dim = 32\n",
    "\n",
    "# Design the network\n",
    "input_img = Input(shape=(784,))\n",
    "encoded = Dense(encoding_dim, activation='relu')(input_img)\n",
    "decoded = Dense(784, activation='sigmoid')(encoded)\n",
    "\n",
    "# this model maps an input to its reconstruction\n",
    "autoencoder = Model(input_img, decoded)\n",
    "autoencoder.compile(optimizer='adadelta', loss='binary_crossentropy')"
   ]
  },
  {
   "cell_type": "code",
   "execution_count": 6,
   "metadata": {},
   "outputs": [
    {
     "name": "stdout",
     "output_type": "stream",
     "text": [
      "Train on 60000 samples, validate on 10000 samples\n",
      "Epoch 1/50\n",
      "60000/60000 [==============================] - 16s - loss: 0.3701 - val_loss: 0.2732\n",
      "Epoch 2/50\n",
      "60000/60000 [==============================] - 12s - loss: 0.2660 - val_loss: 0.2558\n",
      "Epoch 3/50\n",
      "60000/60000 [==============================] - 13s - loss: 0.2462 - val_loss: 0.2343\n",
      "Epoch 4/50\n",
      "60000/60000 [==============================] - 16s - loss: 0.2265 - val_loss: 0.2161\n",
      "Epoch 5/50\n",
      "60000/60000 [==============================] - 17s - loss: 0.2105 - val_loss: 0.2023 - ETA - ETA: 2s\n",
      "Epoch 6/50\n",
      "60000/60000 [==============================] - 16s - loss: 0.1986 - val_loss: 0.1921\n",
      "Epoch 7/50\n",
      "60000/60000 [==============================] - 16s - loss: 0.1895 - val_loss: 0.1840\n",
      "Epoch 8/50\n",
      "60000/60000 [==============================] - 16s - loss: 0.1821 - val_loss: 0.1773\n",
      "Epoch 9/50\n",
      "60000/60000 [==============================] - 16s - loss: 0.1759 - val_loss: 0.1716 - - \n",
      "Epoch 10/50\n",
      "60000/60000 [==============================] - 16s - loss: 0.1705 - val_loss: 0.1665\n",
      "Epoch 11/50\n",
      "60000/60000 [==============================] - 16s - loss: 0.1657 - val_loss: 0.1621s - ETA: 3s -  - ETA: 1\n",
      "Epoch 12/50\n",
      "60000/60000 [==============================] - 17s - loss: 0.1615 - val_loss: 0.1581\n",
      "Epoch 13/50\n",
      "60000/60000 [==============================] - 16s - loss: 0.1577 - val_loss: 0.1545\n",
      "Epoch 14/50\n",
      "60000/60000 [==============================] - 17s - loss: 0.1542 - val_loss: 0.1512\n",
      "Epoch 15/50\n",
      "60000/60000 [==============================] - 17s - loss: 0.1510 - val_loss: 0.1479\n",
      "Epoch 16/50\n",
      "60000/60000 [==============================] - 19s - loss: 0.1480 - val_loss: 0.1451\n",
      "Epoch 17/50\n",
      "60000/60000 [==============================] - 19s - loss: 0.1452 - val_loss: 0.1423\n",
      "Epoch 18/50\n",
      "60000/60000 [==============================] - 18s - loss: 0.1426 - val_loss: 0.1399\n",
      "Epoch 19/50\n",
      "60000/60000 [==============================] - 17s - loss: 0.1401 - val_loss: 0.1375\n",
      "Epoch 20/50\n",
      "60000/60000 [==============================] - 17s - loss: 0.1378 - val_loss: 0.1351\n",
      "Epoch 21/50\n",
      "60000/60000 [==============================] - 18s - loss: 0.1355 - val_loss: 0.1329\n",
      "Epoch 22/50\n",
      "60000/60000 [==============================] - 17s - loss: 0.1334 - val_loss: 0.1308\n",
      "Epoch 23/50\n",
      "60000/60000 [==============================] - 17s - loss: 0.1314 - val_loss: 0.1287\n",
      "Epoch 24/50\n",
      "60000/60000 [==============================] - 16s - loss: 0.1294 - val_loss: 0.1268\n",
      "Epoch 25/50\n",
      "60000/60000 [==============================] - 14s - loss: 0.1276 - val_loss: 0.1250s: \n",
      "Epoch 26/50\n",
      "60000/60000 [==============================] - 12s - loss: 0.1258 - val_loss: 0.1233\n",
      "Epoch 27/50\n",
      "60000/60000 [==============================] - 13s - loss: 0.1241 - val_loss: 0.1217\n",
      "Epoch 28/50\n",
      "60000/60000 [==============================] - 18s - loss: 0.1225 - val_loss: 0.1201\n",
      "Epoch 29/50\n",
      "60000/60000 [==============================] - 14s - loss: 0.1210 - val_loss: 0.1186\n",
      "Epoch 30/50\n",
      "60000/60000 [==============================] - 13s - loss: 0.1196 - val_loss: 0.1173\n",
      "Epoch 31/50\n",
      "60000/60000 [==============================] - 13s - loss: 0.1183 - val_loss: 0.1160\n",
      "Epoch 32/50\n",
      "60000/60000 [==============================] - 13s - loss: 0.1170 - val_loss: 0.1148\n",
      "Epoch 33/50\n",
      "60000/60000 [==============================] - 14s - loss: 0.1158 - val_loss: 0.1136\n",
      "Epoch 34/50\n",
      "60000/60000 [==============================] - 18s - loss: 0.1147 - val_loss: 0.1125\n",
      "Epoch 35/50\n",
      "60000/60000 [==============================] - 17s - loss: 0.1136 - val_loss: 0.1115\n",
      "Epoch 36/50\n",
      "60000/60000 [==============================] - 19s - loss: 0.1127 - val_loss: 0.1105\n",
      "Epoch 37/50\n",
      "60000/60000 [==============================] - 18s - loss: 0.1117 - val_loss: 0.1097\n",
      "Epoch 38/50\n",
      "60000/60000 [==============================] - 18s - loss: 0.1109 - val_loss: 0.1088\n",
      "Epoch 39/50\n",
      "60000/60000 [==============================] - 20s - loss: 0.1101 - val_loss: 0.1080\n",
      "Epoch 40/50\n",
      "60000/60000 [==============================] - 20s - loss: 0.1093 - val_loss: 0.1072\n",
      "Epoch 41/50\n",
      "60000/60000 [==============================] - 21s - loss: 0.1086 - val_loss: 0.1066\n",
      "Epoch 42/50\n",
      "60000/60000 [==============================] - 19s - loss: 0.1079 - val_loss: 0.1059\n",
      "Epoch 43/50\n",
      "60000/60000 [==============================] - 19s - loss: 0.1073 - val_loss: 0.1053\n",
      "Epoch 44/50\n",
      "60000/60000 [==============================] - 17s - loss: 0.1067 - val_loss: 0.1047\n",
      "Epoch 45/50\n",
      "60000/60000 [==============================] - 18s - loss: 0.1061 - val_loss: 0.1042\n",
      "Epoch 46/50\n",
      "60000/60000 [==============================] - 18s - loss: 0.1056 - val_loss: 0.1037\n",
      "Epoch 47/50\n",
      "60000/60000 [==============================] - 18s - loss: 0.1051 - val_loss: 0.1032\n",
      "Epoch 48/50\n",
      "60000/60000 [==============================] - 18s - loss: 0.1046 - val_loss: 0.1028\n",
      "Epoch 49/50\n",
      "60000/60000 [==============================] - 18s - loss: 0.1042 - val_loss: 0.1023\n",
      "Epoch 50/50\n",
      "60000/60000 [==============================] - 19s - loss: 0.1038 - val_loss: 0.1019\n"
     ]
    },
    {
     "data": {
      "text/plain": [
       "<keras.callbacks.History at 0xdacc6d8>"
      ]
     },
     "execution_count": 6,
     "metadata": {},
     "output_type": "execute_result"
    }
   ],
   "source": [
    "# start training \n",
    "autoencoder.fit(x_train, x_train,\n",
    "                epochs=50,\n",
    "                batch_size=256,\n",
    "                shuffle=True,\n",
    "                validation_data=(x_test, x_test))"
   ]
  },
  {
   "cell_type": "code",
   "execution_count": 7,
   "metadata": {
    "collapsed": true
   },
   "outputs": [],
   "source": [
    "# encoder model \n",
    "encoder = Model(input_img, encoded)\n",
    "\n",
    "#decoder model \n",
    "encoded_input = Input(shape=(encoding_dim,))\n",
    "decoder_layer = autoencoder.layers[-1]\n",
    "decoder = Model(encoded_input, decoder_layer(encoded_input))"
   ]
  },
  {
   "cell_type": "code",
   "execution_count": 8,
   "metadata": {
    "collapsed": true
   },
   "outputs": [],
   "source": [
    "# test the model on the test set \n",
    "encoded_imgs = encoder.predict(x_test)\n",
    "decoded_imgs = decoder.predict(encoded_imgs)"
   ]
  },
  {
   "cell_type": "code",
   "execution_count": 11,
   "metadata": {},
   "outputs": [
    {
     "data": {
      "image/png": "[encoded data removed]",
      "text/plain": [
       "<matplotlib.figure.Figure at 0x152c9e48>"
      ]
     },
     "metadata": {},
     "output_type": "display_data"
    }
   ],
   "source": [
    "# visualize results\n",
    "import matplotlib.pyplot as plt\n",
    "n = 10\n",
    "plt.figure(figsize=(20, 4))\n",
    "for i in range(n):\n",
    "    # display original\n",
    "    ax = plt.subplot(2, n, i + 1)\n",
    "    plt.imshow(x_test[i].reshape(28, 28))\n",
    "    plt.gray()\n",
    "    ax.get_xaxis().set_visible(False)\n",
    "    ax.get_yaxis().set_visible(False)\n",
    "\n",
    "    # display reconstruction\n",
    "    ax = plt.subplot(2, n, i + 1 + n)\n",
    "    plt.imshow(decoded_imgs[i].reshape(28, 28))\n",
    "    plt.gray()\n",
    "    ax.get_xaxis().set_visible(False)\n",
    "    ax.get_yaxis().set_visible(False)\n",
    "plt.show()"
   ]
  },
  {
   "cell_type": "code",
   "execution_count": null,
   "metadata": {
    "collapsed": true
   },
   "outputs": [],
   "source": []
  }
 ],
 "metadata": {
  "kernelspec": {
   "display_name": "Python 3",
   "language": "python",
   "name": "python3"
  },
  "language_info": {
   "codemirror_mode": {
    "name": "ipython",
    "version": 3
   },
   "file_extension": ".py",
   "mimetype": "text/x-python",
   "name": "python",
   "nbconvert_exporter": "python",
   "pygments_lexer": "ipython3",
   "version": "3.6.1"
  }
 },
 "nbformat": 4,
 "nbformat_minor": 2
}
