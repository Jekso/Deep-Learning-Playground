{
 "cells": [
  {
   "cell_type": "code",
   "execution_count": 1,
   "metadata": {
    "collapsed": true
   },
   "outputs": [],
   "source": [
    "import pandas as pd"
   ]
  },
  {
   "cell_type": "code",
   "execution_count": 2,
   "metadata": {
    "collapsed": true
   },
   "outputs": [],
   "source": [
    "def god_damn_flatten(label):\n",
    "    data = pd.read_csv('original_data/emg-' + str(label) +'.csv')\n",
    "    data.drop('timestamp', axis=1, inplace=True)\n",
    "    print('For Label: ' + str(label) + ' -> Shape: '+ str(len(data)))\n",
    "    x = data.values.reshape(int(data.shape[0]/8), 8, 8)\n",
    "    arr = []\n",
    "    for d in x:\n",
    "        arr.append(d.flatten())\n",
    "    new = pd.DataFrame(data=arr)\n",
    "    new.to_csv('flatted_data/' + str(label) + '.csv', header=None, index=None)\n",
    "    \n",
    "def god_damn_labler(label):\n",
    "    data = pd.read_csv('flatted_data/' + str(label) + '.csv', header=None)\n",
    "    data['label'] = i\n",
    "    data.to_csv('flatted_with_label/' + str(label) + '.csv', header=None, index= None)\n",
    "    print('Labeling num: '+ str(label))\n",
    "    \n",
    "def god_damn_collector(i):\n",
    "    collector = open('Dataset.csv', 'ab')\n",
    "    csv_file = open('flatted_with_label/' + str(i) + '.csv', 'rb')\n",
    "    collector.write(csv_file.read())\n",
    "    csv_file.close()\n",
    "    collector.close()"
   ]
  },
  {
   "cell_type": "code",
   "execution_count": 3,
   "metadata": {},
   "outputs": [
    {
     "name": "stdout",
     "output_type": "stream",
     "text": [
      "For Label: 0 -> Shape: 106456\n",
      "Labeling num: 0\n",
      "\n",
      "For Label: 1 -> Shape: 128792\n",
      "Labeling num: 1\n",
      "\n",
      "For Label: 2 -> Shape: 117656\n",
      "Labeling num: 2\n",
      "\n",
      "For Label: 3 -> Shape: 120904\n",
      "Labeling num: 3\n",
      "\n",
      "For Label: 4 -> Shape: 138792\n",
      "Labeling num: 4\n",
      "\n",
      "For Label: 5 -> Shape: 127712\n",
      "Labeling num: 5\n",
      "\n",
      "For Label: 6 -> Shape: 131936\n",
      "Labeling num: 6\n",
      "\n",
      "For Label: 7 -> Shape: 137024\n",
      "Labeling num: 7\n",
      "\n",
      "For Label: 8 -> Shape: 141520\n",
      "Labeling num: 8\n",
      "\n",
      "For Label: 9 -> Shape: 145616\n",
      "Labeling num: 9\n",
      "\n"
     ]
    }
   ],
   "source": [
    "for i in range(10):\n",
    "    god_damn_flatten(i)\n",
    "    god_damn_labler(i)\n",
    "    god_damn_collector(i)\n",
    "    print()"
   ]
  },
  {
   "cell_type": "code",
   "execution_count": null,
   "metadata": {
    "collapsed": true
   },
   "outputs": [],
   "source": []
  }
 ],
 "metadata": {
  "kernelspec": {
   "display_name": "Python 3",
   "language": "python",
   "name": "python3"
  },
  "language_info": {
   "codemirror_mode": {
    "name": "ipython",
    "version": 3
   },
   "file_extension": ".py",
   "mimetype": "text/x-python",
   "name": "python",
   "nbconvert_exporter": "python",
   "pygments_lexer": "ipython3",
   "version": "3.6.4"
  }
 },
 "nbformat": 4,
 "nbformat_minor": 2
}
