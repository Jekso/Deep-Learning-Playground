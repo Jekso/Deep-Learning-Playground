{
 "cells": [
  {
   "cell_type": "code",
   "execution_count": null,
   "metadata": {
    "collapsed": true
   },
   "outputs": [],
   "source": [
    "import pandas as pd"
   ]
  },
  {
   "cell_type": "code",
   "execution_count": null,
   "metadata": {},
   "outputs": [],
   "source": [
    "def god_damn_flatten(label):\n",
    "    data = pd.read_csv('emg-'+str(label)+''.csv')\n",
    "    data.drop('timestamp', axis=1, inplace=True)\n",
    "    x = data.values.reshape(int(data.shape[0]/8), 8, 8)\n",
    "    arr = []\n",
    "    for d in x:\n",
    "        arr.append(d.flatten())\n",
    "    new = pd.DataFrame(data=arr)\n",
    "    new.to_csv(str(label)+'.csv', header=None, index=None)"
   ]
  },
  {
   "cell_type": "code",
   "execution_count": null,
   "metadata": {
    "collapsed": true
   },
   "outputs": [],
   "source": []
  }
 ],
 "metadata": {
  "kernelspec": {
   "display_name": "Python 3",
   "language": "python",
   "name": "python3"
  },
  "language_info": {
   "codemirror_mode": {
    "name": "ipython",
    "version": 3
   },
   "file_extension": ".py",
   "mimetype": "text/x-python",
   "name": "python",
   "nbconvert_exporter": "python",
   "pygments_lexer": "ipython3",
   "version": "3.6.4"
  }
 },
 "nbformat": 4,
 "nbformat_minor": 2
}
